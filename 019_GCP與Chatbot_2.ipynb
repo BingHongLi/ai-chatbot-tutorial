{
  "nbformat": 4,
  "nbformat_minor": 0,
  "metadata": {
    "colab": {
      "name": "019_GCP與Chatbot-2.ipynb",
      "provenance": [],
      "collapsed_sections": []
    },
    "kernelspec": {
      "name": "python3",
      "display_name": "Python 3"
    }
  },
  "cells": [
    {
      "cell_type": "code",
      "metadata": {
        "id": "uB7UXHtGL6CG"
      },
      "source": [
        "!pip install line-bot-sdk flask flask-ngrok \n",
        "\n",
        "# 安裝後必須點擊Runtime -> Restart Runtime\n",
        "!pip install  google-cloud-texttospeech\n"
      ],
      "execution_count": null,
      "outputs": []
    },
    {
      "cell_type": "code",
      "metadata": {
        "id": "5GjZFYH4MNP_"
      },
      "source": [
        "'''\n",
        "引用套件\n",
        "'''\n",
        "\n",
        "# 引用Web Server套件\n",
        "from flask import Flask, request, abort, jsonify\n",
        "\n",
        "# 載入json處理套件\n",
        "import json\n",
        "\n",
        "# 外部連結自動生成套件\n",
        "from flask_ngrok import run_with_ngrok\n",
        "\n",
        "# 從linebot 套件包裡引用 LineBotApi 與 WebhookHandler 類別\n",
        "from linebot import (\n",
        "    LineBotApi, WebhookHandler\n",
        ")\n",
        "\n",
        "# 引用無效簽章錯誤\n",
        "from linebot.exceptions import (\n",
        "    InvalidSignatureError\n",
        ")\n"
      ],
      "execution_count": null,
      "outputs": []
    },
    {
      "cell_type": "code",
      "metadata": {
        "id": "4Y7U7MOEMQqj"
      },
      "source": [
        "'''\n",
        "建置主程序\n",
        "\n",
        "建置handler與 line_bot_api\n",
        "'''\n",
        "\n",
        "# 設定Server啟用細節\n",
        "app = Flask(__name__,static_url_path = \"/material\" , static_folder = \"./material/\")\n",
        "run_with_ngrok(app)\n",
        "\n",
        "# 生成實體物件\n",
        "line_bot_api = LineBotApi(\"CHANNEL_ACCESS_TOKEN\")\n",
        "handler = WebhookHandler(\"CHANNEL_SECRET\")\n",
        "  \n",
        "from google.cloud import storage\n",
        "from google.cloud import texttospeech\n",
        "# 本地端才如此作為，最好改用環境變數\n",
        "storage_client = storage.Client.from_service_account_json('service_account.json')\n",
        "bucket_name='GCP Cloud Storage Bucket name'\n",
        "\n",
        "# Instantiates a client\n",
        "speech_client = texttospeech.TextToSpeechClient.from_service_account_json('service_account.json')"
      ],
      "execution_count": null,
      "outputs": []
    },
    {
      "cell_type": "code",
      "metadata": {
        "id": "MA2sIy_3MRoS"
      },
      "source": [
        "'''\n",
        "建置主程序的API入口\n",
        "  接受Line傳過來的消息\n",
        "  並取出消息內容\n",
        "  將消息內容存在google drive的檔案內\n",
        "  並請handler 進行消息驗證與轉發\n",
        "'''\n",
        "\n",
        "# 啟動server對外接口，使Line能丟消息進來\n",
        "@app.route(\"/\", methods=['POST'])\n",
        "def callback():\n",
        "    # get X-Line-Signature header value\n",
        "    signature = request.headers['X-Line-Signature']\n",
        "\n",
        "    # get request body as text\n",
        "    body = request.get_data(as_text=True)\n",
        "    print(body)\n",
        "\n",
        "    # 記錄用戶log，請去查更正確的logging作法\n",
        "    f = open(\"./ai-event.log\", \"a\")\n",
        "    f.write(body)\n",
        "    f.close()\n",
        "\n",
        "    # handle webhook body\n",
        "    try:\n",
        "        handler.handle(body, signature)\n",
        "    except InvalidSignatureError:\n",
        "        abort(400)\n",
        "\n",
        "    return 'OK'"
      ],
      "execution_count": null,
      "outputs": []
    },
    {
      "cell_type": "code",
      "metadata": {
        "id": "Wr14RAgDMmb4"
      },
      "source": [
        "'''\n",
        "\n",
        "若收到圖片消息時，\n",
        "\n",
        "先回覆用戶文字消息，並從Line上將照片拿回。\n",
        "\n",
        "'''\n",
        "\n",
        "from linebot.models import(\n",
        "    MessageEvent,ImageMessage, TextSendMessage\n",
        ")\n",
        "\n",
        "@handler.add(MessageEvent, message=ImageMessage)\n",
        "def handle_message(event):\n",
        "    \n",
        "    line_bot_api.reply_message(\n",
        "        event.reply_token,\n",
        "        TextSendMessage(text='Image has Upload'+ ' ' + event.message.id))\n",
        "    \n",
        "    message_content = line_bot_api.get_message_content(event.message.id)\n",
        "    with open(event.message.id+'.jpg', 'wb') as fd:\n",
        "        for chunk in message_content.iter_content():\n",
        "            fd.write(chunk)\n",
        "\n",
        "\n",
        "    source_file_name= event.message.id+'.jpg'\n",
        "    destination_blob_name=  event.source.user_id +'/'+ event.message.id+'.jpg'\n",
        "\n",
        "    bucket = storage_client.bucket(bucket_name)\n",
        "\n",
        "    blob = bucket.blob(destination_blob_name)\n",
        "\n",
        "    blob.upload_from_filename(source_file_name)"
      ],
      "execution_count": null,
      "outputs": []
    },
    {
      "cell_type": "code",
      "metadata": {
        "id": "2avfC7bLxriD"
      },
      "source": [
        "'''\n",
        "若收到文字消息時\n",
        "\n",
        "將文字傳給GCP，轉譯成音訊後\n",
        "\n",
        "放到cloud storage，並組合成AudioSendMessage，傳回給用戶\n",
        "\n",
        "Podcast\n",
        "'''\n",
        "\n",
        "from linebot.models import(\n",
        "    MessageEvent,TextMessage, AudioSendMessage\n",
        ")\n",
        "\n",
        "\n",
        "@handler.add(MessageEvent, message=TextMessage)\n",
        "def handle_text_message(event):\n",
        "\n",
        "  # Set the text input to be synthesized\n",
        "  synthesis_input = texttospeech.SynthesisInput(text=event.message.text)\n",
        "\n",
        "\n",
        "  # Build the voice request, select the language code (\"en-US\") and the ssml\n",
        "  # voice gender (\"neutral\")\n",
        "  voice = texttospeech.VoiceSelectionParams(\n",
        "      language_code=\"zh-TW\", ssml_gender=texttospeech.SsmlVoiceGender.NEUTRAL\n",
        "  )\n",
        "\n",
        "  # Select the type of audio file you want returned\n",
        "  audio_config = texttospeech.AudioConfig(\n",
        "      audio_encoding=texttospeech.AudioEncoding.MP3\n",
        "  )\n",
        "\n",
        "  # Perform the text-to-speech request on the text input with the selected\n",
        "  # voice parameters and audio file type\n",
        "  response = speech_client.synthesize_speech(\n",
        "    input=synthesis_input, voice=voice, audio_config=audio_config\n",
        "  )\n",
        "\n",
        "  # The response's audio_content is binary.\n",
        "  voice_mp3_file_path=event.message.id+\".mp3\"\n",
        "  with open(voice_mp3_file_path, \"wb\") as out:\n",
        "      # Write the response to the output file.\n",
        "      out.write(response.audio_content)\n",
        "      print('Audio content written to file '+voice_mp3_file_path)\n",
        "\n",
        "\n",
        "  # 上傳檔案\n",
        "  destination_blob_name=  event.source.user_id +'/'+ event.message.id+'.mp3'\n",
        "\n",
        "  bucket = storage_client.bucket(bucket_name)\n",
        "\n",
        "  blob = bucket.blob(destination_blob_name)\n",
        "\n",
        "  blob.upload_from_filename(voice_mp3_file_path)\n",
        "\n",
        "  # 回話\n",
        "  line_bot_api.reply_message(\n",
        "      event.reply_token,\n",
        "      AudioSendMessage(\n",
        "       original_content_url =\"https://storage.googleapis.com/\"+bucket_name+'/'+destination_blob_name,\n",
        "       duration=60000\n",
        "      ) \n",
        "  )"
      ],
      "execution_count": null,
      "outputs": []
    },
    {
      "cell_type": "code",
      "metadata": {
        "id": "5oYoKWEXq24z"
      },
      "source": [
        "'''\n",
        "Google ML 參考\n",
        "https://colab.research.google.com/github/robeartoe/APIWorkshop/blob/master/MLWorkshop.ipynb#scrollTo=Snq8ehAu7JkD\n",
        "\n",
        "'''"
      ],
      "execution_count": null,
      "outputs": []
    },
    {
      "cell_type": "code",
      "metadata": {
        "id": "8y0AEVmkMqDm"
      },
      "source": [
        "# 主程序運行\n",
        "app.run()"
      ],
      "execution_count": null,
      "outputs": []
    },
    {
      "cell_type": "code",
      "metadata": {
        "id": "DEVizlul75HY"
      },
      "source": [
        ""
      ],
      "execution_count": null,
      "outputs": []
    }
  ]
}