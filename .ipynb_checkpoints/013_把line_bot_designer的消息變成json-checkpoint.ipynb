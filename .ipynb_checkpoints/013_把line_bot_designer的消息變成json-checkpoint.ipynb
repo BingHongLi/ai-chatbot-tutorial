{
 "cells": [
  {
   "cell_type": "code",
   "execution_count": null,
   "metadata": {
    "id": "p0W867ZhdkdI"
   },
   "outputs": [],
   "source": [
    "'''\n",
    "\n",
    "資料 mapping 至google drive\n",
    "\n",
    "把資料寫在/content/drive\n",
    "\n",
    "即可保存在 google drive內\n",
    "\n",
    "'''\n",
    "from google.colab import drive\n",
    "drive.mount('/content/drive')"
   ]
  },
  {
   "cell_type": "code",
   "execution_count": null,
   "metadata": {
    "id": "uB-ssmBtd5ac"
   },
   "outputs": [],
   "source": [
    "'''\n",
    "\n",
    "'''\n",
    "\n",
    "!pip install line-bot-sdk flask flask-ngrok"
   ]
  },
  {
   "cell_type": "code",
   "execution_count": null,
   "metadata": {
    "id": "JS4BNBZQd7HU"
   },
   "outputs": [],
   "source": [
    "'''\n",
    "引用套件\n",
    "'''\n",
    "\n",
    "# 引用Web Server套件\n",
    "from flask import Flask, request, abort, jsonify\n",
    "\n",
    "# 載入json處理套件\n",
    "import json\n",
    "\n",
    "# 外部連結自動生成套件\n",
    "from flask_ngrok import run_with_ngrok\n",
    "\n",
    "# 從linebot 套件包裡引用 LineBotApi 與 WebhookHandler 類別\n",
    "from linebot import (\n",
    "    LineBotApi, WebhookHandler\n",
    ")\n",
    "\n",
    "# 引用無效簽章錯誤\n",
    "from linebot.exceptions import (\n",
    "    InvalidSignatureError\n",
    ")\n"
   ]
  },
  {
   "cell_type": "code",
   "execution_count": null,
   "metadata": {
    "id": "DQjGb3Hjiy5U"
   },
   "outputs": [],
   "source": [
    "# 設定Server啟用細節\n",
    "app = Flask(__name__,static_url_path = \"/素材\" , static_folder = \"./素材/\")\n",
    "run_with_ngrok(app)\n",
    "\n",
    "# 生成實體物件\n",
    "line_bot_api = LineBotApi(\"channel_access_token\")\n",
    "handler = WebhookHandler(\"secret_key\")"
   ]
  },
  {
   "cell_type": "code",
   "execution_count": null,
   "metadata": {
    "id": "gUuI4lVzi5M7"
   },
   "outputs": [],
   "source": [
    "\n",
    "# 啟動server對外接口，使Line能丟消息進來\n",
    "@app.route(\"/\", methods=['POST'])\n",
    "def callback():\n",
    "    # get X-Line-Signature header value\n",
    "    signature = request.headers['X-Line-Signature']\n",
    "\n",
    "    # get request body as text\n",
    "    body = request.get_data(as_text=True)\n",
    "    app.logger.info(\"Request body: \" + body)\n",
    "\n",
    "    # handle webhook body\n",
    "    try:\n",
    "        handler.handle(body, signature)\n",
    "    except InvalidSignatureError:\n",
    "        abort(400)\n",
    "\n",
    "    return 'OK'"
   ]
  },
  {
   "cell_type": "code",
   "execution_count": null,
   "metadata": {
    "id": "iKUrvJ74jQMz"
   },
   "outputs": [],
   "source": [
    "'''\n",
    "消息判斷器\n",
    "讀取指定的json檔案後，把json解析成不同格式的SendMessage\n",
    "讀取檔案，\n",
    "把內容轉換成json\n",
    "將json轉換成消息\n",
    "放回array中，並把array傳出。\n",
    "'''\n",
    "\n",
    "# 引用會用到的套件\n",
    "from linebot.models import (\n",
    "    ImagemapSendMessage,TextSendMessage,ImageSendMessage,LocationSendMessage,FlexSendMessage,VideoSendMessage\n",
    ")\n",
    "\n",
    "from linebot.models.template import (\n",
    "    ButtonsTemplate,CarouselTemplate,ConfirmTemplate,ImageCarouselTemplate\n",
    "    \n",
    ")\n",
    "\n",
    "from linebot.models.template import *\n",
    "\n",
    "def detect_json_array_to_new_message_array(fileName):\n",
    "    \n",
    "    #開啟檔案，轉成json\n",
    "    with open(fileName,encoding='utf8') as f:\n",
    "        jsonArray = json.load(f)\n",
    "    \n",
    "    # 解析json\n",
    "    returnArray = []\n",
    "    for jsonObject in jsonArray:\n",
    "\n",
    "        # 讀取其用來判斷的元件\n",
    "        message_type = jsonObject.get('type')\n",
    "        \n",
    "        # 轉換\n",
    "        if message_type == 'text':\n",
    "            returnArray.append(TextSendMessage.new_from_json_dict(jsonObject))\n",
    "        elif message_type == 'imagemap':\n",
    "            returnArray.append(ImagemapSendMessage.new_from_json_dict(jsonObject))\n",
    "        elif message_type == 'template':\n",
    "            returnArray.append(TemplateSendMessage.new_from_json_dict(jsonObject))\n",
    "        elif message_type == 'image':\n",
    "            returnArray.append(ImageSendMessage.new_from_json_dict(jsonObject))\n",
    "        elif message_type == 'sticker':\n",
    "            returnArray.append(StickerSendMessage.new_from_json_dict(jsonObject))  \n",
    "        elif message_type == 'audio':\n",
    "            returnArray.append(AudioSendMessage.new_from_json_dict(jsonObject))  \n",
    "        elif message_type == 'location':\n",
    "            returnArray.append(LocationSendMessage.new_from_json_dict(jsonObject))\n",
    "        elif message_type == 'flex':\n",
    "            returnArray.append(FlexSendMessage.new_from_json_dict(jsonObject))  \n",
    "        elif message_type == 'video':\n",
    "            returnArray.append(VideoSendMessage.new_from_json_dict(jsonObject))    \n",
    "\n",
    "\n",
    "    # 回傳\n",
    "    return returnArray\n"
   ]
  },
  {
   "cell_type": "code",
   "execution_count": null,
   "metadata": {
    "id": "zWhCWzrfjge5"
   },
   "outputs": [],
   "source": [
    "\n",
    "# 引用套件\n",
    "from linebot.models import (\n",
    "    MessageEvent, TextMessage\n",
    ")\n",
    "\n",
    "\n",
    "# 文字消息處理\n",
    "@handler.add(MessageEvent,message=TextMessage)\n",
    "def process_text_message(event):\n",
    "\n",
    "    # 讀取本地檔案，並轉譯成消息\n",
    "    result_message_array =[]\n",
    "    replyJsonPath = event.message.text+\".json\"\n",
    "    result_message_array = detect_json_array_to_new_message_array(replyJsonPath)\n",
    "\n",
    "    # 發送\n",
    "    line_bot_api.reply_message(\n",
    "        event.reply_token,\n",
    "        result_message_array\n",
    "    )"
   ]
  },
  {
   "cell_type": "code",
   "execution_count": null,
   "metadata": {
    "id": "fFwaojqca8F6"
   },
   "outputs": [],
   "source": [
    "# 主程序運行\n",
    "app.run()"
   ]
  }
 ],
 "metadata": {
  "colab": {
   "collapsed_sections": [],
   "name": "015_把line_bot_designer的消息變成json.ipynb",
   "provenance": []
  },
  "kernelspec": {
   "display_name": "Python 3",
   "language": "python",
   "name": "python3"
  },
  "language_info": {
   "codemirror_mode": {
    "name": "ipython",
    "version": 3
   },
   "file_extension": ".py",
   "mimetype": "text/x-python",
   "name": "python",
   "nbconvert_exporter": "python",
   "pygments_lexer": "ipython3",
   "version": "3.8.6"
  }
 },
 "nbformat": 4,
 "nbformat_minor": 1
}
