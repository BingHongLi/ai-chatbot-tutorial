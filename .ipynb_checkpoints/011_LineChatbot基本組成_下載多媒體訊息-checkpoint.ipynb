{
 "cells": [
  {
   "cell_type": "code",
   "execution_count": null,
   "metadata": {
    "id": "ylkDvkEfEZIw"
   },
   "outputs": [],
   "source": [
    "'''\n",
    "掛載Google硬碟\n",
    "安裝套件\n",
    "引用套件\n",
    "APP應用準備\n",
    "消息準備\n",
    "handler執行方法設計\n",
    "啟動應用\n",
    "\n",
    "'''"
   ]
  },
  {
   "cell_type": "code",
   "execution_count": null,
   "metadata": {
    "id": "2mDqhB78Fxp6"
   },
   "outputs": [],
   "source": [
    "'''\n",
    "\n",
    "資料 mapping 至google drive\n",
    "\n",
    "把資料寫在/content/drive\n",
    "\n",
    "即可保存在 google drive內\n",
    "\n",
    "'''\n",
    "from google.colab import drive\n",
    "drive.mount('/content/drive')"
   ]
  },
  {
   "cell_type": "code",
   "execution_count": null,
   "metadata": {
    "id": "4iGRs1oYD6Ca"
   },
   "outputs": [],
   "source": [
    "'''\n",
    "\n",
    "流程解析\n",
    "\n",
    "'''\n"
   ]
  },
  {
   "cell_type": "code",
   "execution_count": null,
   "metadata": {
    "id": "JyhJqq8KImyR"
   },
   "outputs": [],
   "source": [
    "!pip install line-bot-sdk flask flask-ngrok"
   ]
  },
  {
   "cell_type": "code",
   "execution_count": null,
   "metadata": {
    "id": "rJDNE2TYEaYA"
   },
   "outputs": [],
   "source": [
    "'''\n",
    "引用套件\n",
    "'''\n",
    "\n",
    "# 引用Web Server套件\n",
    "from flask import Flask, request, abort, jsonify\n",
    "\n",
    "# 載入json處理套件\n",
    "import json\n",
    "\n",
    "# 外部連結自動生成套件\n",
    "from flask_ngrok import run_with_ngrok\n",
    "\n",
    "# 從linebot 套件包裡引用 LineBotApi 與 WebhookHandler 類別\n",
    "from linebot import (\n",
    "    LineBotApi, WebhookHandler\n",
    ")\n",
    "\n",
    "# 引用無效簽章錯誤\n",
    "from linebot.exceptions import (\n",
    "    InvalidSignatureError\n",
    ")\n"
   ]
  },
  {
   "cell_type": "code",
   "execution_count": null,
   "metadata": {
    "id": "XssY97Y9Eahe"
   },
   "outputs": [],
   "source": [
    "'''\n",
    "建置主程序\n",
    "\n",
    "建置handler與 line_bot_api\n",
    "'''\n",
    "\n",
    "# 設定Server啟用細節\n",
    "app = Flask(__name__,static_url_path = \"/material\" , static_folder = \"./material/\")\n",
    "run_with_ngrok(app)\n",
    "\n",
    "# 生成實體物件\n",
    "line_bot_api = LineBotApi(\"CHANNEL_ACCESS_TOKEN\")\n",
    "handler = WebhookHandler(\"CHANNEL_SECRET\")"
   ]
  },
  {
   "cell_type": "code",
   "execution_count": null,
   "metadata": {
    "id": "jyIFMBi4EvTl"
   },
   "outputs": [],
   "source": [
    "'''\n",
    "建置主程序的API入口\n",
    "  接受Line傳過來的消息\n",
    "  並取出消息內容\n",
    "  將消息內容存在google drive的檔案內\n",
    "  並請handler 進行消息驗證與轉發\n",
    "'''\n",
    "\n",
    "# 啟動server對外接口，使Line能丟消息進來\n",
    "@app.route(\"/\", methods=['POST'])\n",
    "def callback():\n",
    "    # get X-Line-Signature header value\n",
    "    signature = request.headers['X-Line-Signature']\n",
    "\n",
    "    # get request body as text\n",
    "    body = request.get_data(as_text=True)\n",
    "    print(body)\n",
    "\n",
    "    # 記錄用戶log\n",
    "    f = open(\"/content/drive/MyDrive/ai-event.log\", \"a\")\n",
    "    f.write(body)\n",
    "    f.close()\n",
    "\n",
    "    # handle webhook body\n",
    "    try:\n",
    "        handler.handle(body, signature)\n",
    "    except InvalidSignatureError:\n",
    "        abort(400)\n",
    "\n",
    "    return 'OK'"
   ]
  },
  {
   "cell_type": "code",
   "execution_count": null,
   "metadata": {
    "id": "jojZfXmcacqS"
   },
   "outputs": [],
   "source": [
    "'''\n",
    "\n",
    "若收到圖片消息時，\n",
    "\n",
    "先回覆用戶文字消息，並從Line上將照片拿回。\n",
    "\n",
    "'''\n",
    "\n",
    "from linebot.models import(\n",
    "    MessageEvent,ImageMessage, TextSendMessage\n",
    ")\n",
    "\n",
    "@handler.add(MessageEvent, message=ImageMessage)\n",
    "def handle_message(event):\n",
    "    line_bot_api.reply_message(\n",
    "        event.reply_token,\n",
    "        TextSendMessage(text='Image has Upload'+ ' ' + event.message.id))\n",
    "    message_content = line_bot_api.get_message_content(event.message.id)\n",
    "    with open(event.message.id+'.jpg', 'wb') as fd:\n",
    "        for chunk in message_content.iter_content():\n",
    "            fd.write(chunk)"
   ]
  },
  {
   "cell_type": "code",
   "execution_count": null,
   "metadata": {
    "id": "NVkYb65fHY9W"
   },
   "outputs": [],
   "source": [
    "'''\n",
    "影片消息，留給你\n",
    "'''"
   ]
  },
  {
   "cell_type": "code",
   "execution_count": null,
   "metadata": {
    "id": "H7hA7xfaQ25T"
   },
   "outputs": [],
   "source": [
    "'''\n",
    "音訊消息，留給你\n",
    "'''"
   ]
  },
  {
   "cell_type": "code",
   "execution_count": null,
   "metadata": {
    "id": "0IONhIKOQ3Ih"
   },
   "outputs": [],
   "source": []
  },
  {
   "cell_type": "code",
   "execution_count": null,
   "metadata": {
    "id": "7UVshk_cQ3NQ"
   },
   "outputs": [],
   "source": [
    "# 主程序運行\n",
    "app.run()"
   ]
  }
 ],
 "metadata": {
  "colab": {
   "collapsed_sections": [],
   "name": "011_LineChatbot基本組成_下載多媒體訊息.ipynb",
   "provenance": []
  },
  "kernelspec": {
   "display_name": "Python 3",
   "language": "python",
   "name": "python3"
  },
  "language_info": {
   "codemirror_mode": {
    "name": "ipython",
    "version": 3
   },
   "file_extension": ".py",
   "mimetype": "text/x-python",
   "name": "python",
   "nbconvert_exporter": "python",
   "pygments_lexer": "ipython3",
   "version": "3.8.6"
  }
 },
 "nbformat": 4,
 "nbformat_minor": 1
}
