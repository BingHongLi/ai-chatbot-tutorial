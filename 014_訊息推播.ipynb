{
 "cells": [
  {
   "cell_type": "code",
   "execution_count": null,
   "metadata": {
    "id": "QUmyHyZ3cnZI"
   },
   "outputs": [],
   "source": [
    "'''\n",
    "\n",
    "資料 mapping 至google drive\n",
    "\n",
    "把資料寫在/content/drive\n",
    "\n",
    "即可保存在 google drive內\n",
    "\n",
    "'''\n",
    "from google.colab import drive\n",
    "drive.mount('/content/drive')"
   ]
  },
  {
   "cell_type": "code",
   "execution_count": null,
   "metadata": {
    "id": "IA4MtQz7c4vK"
   },
   "outputs": [],
   "source": [
    "'''\n",
    "\n",
    "'''\n",
    "\n",
    "!pip install line-bot-sdk flask flask-ngrok"
   ]
  },
  {
   "cell_type": "code",
   "execution_count": null,
   "metadata": {
    "id": "vznr93WgdCkd"
   },
   "outputs": [],
   "source": [
    "from linebot import (\n",
    "    LineBotApi, WebhookHandler\n",
    ")\n",
    "from linebot.models import (\n",
    "    \n",
    "    TextSendMessage\n",
    ")\n"
   ]
  },
  {
   "cell_type": "code",
   "execution_count": null,
   "metadata": {
    "id": "gBxudgmsdMLj"
   },
   "outputs": [],
   "source": [
    "\n",
    "# 生成實體物件\n",
    "line_bot_api = LineBotApi(\"CHANNEL_ACCESS_TOKEN\")"
   ]
  },
  {
   "cell_type": "code",
   "execution_count": null,
   "metadata": {
    "id": "N4IwX0MydOPN"
   },
   "outputs": [],
   "source": [
    "'''\n",
    "指定推播\n",
    "'''\n",
    "\n",
    "line_bot_api.push_message('USER_ID', TextSendMessage(text='Hello World!'))"
   ]
  },
  {
   "cell_type": "code",
   "execution_count": null,
   "metadata": {
    "id": "5JSs8yHpcc1a"
   },
   "outputs": [],
   "source": [
    "'''\n",
    "廣播\n",
    "'''\n",
    "\n",
    "import json\n",
    "json_object_strings = open(\"/content/drive/MyDrive/users.txt\",'r')\n",
    "json_array = []\n",
    "user_id_array = []\n",
    "\n",
    "for json_object_string in json_object_strings:\n",
    "    json_object = json.loads(json_object_string)\n",
    "    json_array.append(json_object)\n",
    "\n",
    "for user_record in json_array:\n",
    "    user_id_array.append(user_record.get(\"user_id\"))\n",
    "\n",
    "line_bot_api.multicast(\n",
    "    user_id_array,\n",
    "    TextSendMessage(text='Hello World!')\n",
    ")"
   ]
  },
  {
   "cell_type": "code",
   "execution_count": null,
   "metadata": {
    "id": "0YUQOJyRZepG"
   },
   "outputs": [],
   "source": []
  }
 ],
 "metadata": {
  "colab": {
   "collapsed_sections": [],
   "name": "013_訊息推播.ipynb",
   "provenance": []
  },
  "kernelspec": {
   "display_name": "Python 3",
   "language": "python",
   "name": "python3"
  },
  "language_info": {
   "codemirror_mode": {
    "name": "ipython",
    "version": 3
   },
   "file_extension": ".py",
   "mimetype": "text/x-python",
   "name": "python",
   "nbconvert_exporter": "python",
   "pygments_lexer": "ipython3",
   "version": "3.8.6"
  }
 },
 "nbformat": 4,
 "nbformat_minor": 1
}
